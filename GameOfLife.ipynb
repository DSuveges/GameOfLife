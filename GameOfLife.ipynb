{
 "cells": [
  {
   "cell_type": "markdown",
   "metadata": {},
   "source": [
    "## John Conway's game of life implemented on python\n",
    "\n",
    "Just a little bit of working around with the famous evolving model system designed by [John Conway](https://en.wikipedia.org/wiki/John_Horton_Conway) called [Game of Life](https://en.wikipedia.org/wiki/Conway%27s_Game_of_Life). Although the rules of the system is extremely simple, an astounishing complexity of \"organisms\" can be created. Surprisingly, since the initial publication of the system in the 1970s, mathematicias are still actively researching the emerging strucures and by this day over 8000 patterns have been identified from a dozens of established classes.\n",
    "\n",
    "**The rules**:\n",
    "1. The universe of the Game of Life is an infinite two-dimensional orthogonal grid of square cells, each of which is in one of two possible states, alive or dead. \n",
    "2. Every cell interacts with its eight neighbours, which are the cells that are horizontally, vertically, or diagonally adjacent.\n",
    "3. Any live cell with fewer than two live neighbours dies, as if caused by under-population.\n",
    "4. Any live cell with two or three live neighbours lives on to the next generation.\n",
    "5. Any live cell with more than three live neighbours dies, as if by over-population.\n",
    "6. Any dead cell with exactly three live neighbours becomes a live cell, as if by reproduction.\n",
    "\n",
    "In this workbook, a game of life engine is implemented with 3 possible mechanism of pattern genergations:\n",
    "1. Paterns can be randomly generated (\"soup\")\n",
    "2. An established pattern can be downloaded from the cetral pattern [library](http://www.conwaylife.com/wiki/Category:Patterns).\n",
    "3. A bitmap of a pattern can be read pixel by pixel to reconstruct the pattern."
   ]
  },
  {
   "cell_type": "code",
   "execution_count": 1,
   "metadata": {
    "collapsed": false
   },
   "outputs": [
    {
     "name": "stdout",
     "output_type": "stream",
     "text": [
      "2016-05-15 00:15:34.285002\n"
     ]
    }
   ],
   "source": [
    "import datetime\n",
    "print datetime.datetime.now()"
   ]
  },
  {
   "cell_type": "code",
   "execution_count": 2,
   "metadata": {
    "collapsed": false
   },
   "outputs": [
    {
     "name": "stderr",
     "output_type": "stream",
     "text": [
      "//anaconda/lib/python2.7/site-packages/matplotlib/font_manager.py:273: UserWarning: Matplotlib is building the font cache using fc-list. This may take a moment.\n",
      "  warnings.warn('Matplotlib is building the font cache using fc-list. This may take a moment.')\n"
     ]
    }
   ],
   "source": [
    "# The following packages are required for the calculation:\n",
    "import numpy as np # The system is represented in an 2-dimensional array.\n",
    "# import seaborn as sns; sns.set() # quick visualization of the actual state of the system.\n",
    "# import cairosvg # Create bitmap image from an svg.\n",
    "import imageio # Compile images into an animation.\n",
    "import requests # Retrieve pattern from pattern database.\n",
    "import scipy.misc # loaded pilutil from to create image.\n",
    "\n",
    "# plot heatmap in the notebook.\n",
    "%matplotlib inline "
   ]
  },
  {
   "cell_type": "markdown",
   "metadata": {},
   "source": [
    "### Functions\n",
    "\n",
    "Some of these functions are not used, as they were designed for a previous versions when the individual states of the system were plotted as svg files, converted to png and then saved as a frame of a gif or mp4."
   ]
  },
  {
   "cell_type": "code",
   "execution_count": 3,
   "metadata": {
    "collapsed": false
   },
   "outputs": [],
   "source": [
    "def draw_svg(matrix):\n",
    "    '''\n",
    "    Based on the provided matrix, the function returns a formatted svg \n",
    "    image ready to be saved.\n",
    "    '''\n",
    "    # Get dimensions:\n",
    "    (width, height) = matrix.shape\n",
    "\n",
    "    # Draw svg image:\n",
    "    svg = '<svg width=\"%s\" height=\"%s\" style=\"background-color: blue\">\\n' % (width, height)\n",
    "    svg += '\\t<rect x=\"-2\" y=\"-2\" width=\"%s\" height=\"%s\" style=\"fill:white;stroke:white;stroke-width:1\" />\\n' % (\n",
    "        width * 2.5, height * 2.5)\n",
    "    nonZero = np.nonzero(matrix)\n",
    "    for index, x in enumerate(nonZero[0]):\n",
    "        y =nonZero[1][index]\n",
    "        svg += '\\t<rect x=\"%s\" y=\"%s\" width=\"1\" height=\"1\" style=\"fill:rgb(0,0,0);stroke:rgb(0,0,0);stroke-width:1\" />\\n' % (\n",
    "            x, y)\n",
    "    svg += '</svg>'\n",
    "\n",
    "    return svg\n",
    "\n",
    "def get_dying(matrix):\n",
    "    '''\n",
    "    This function returns a list of coordinates of the dying \n",
    "    cells.\n",
    "    '''\n",
    "    nonZero = np.nonzero(matrix)\n",
    "    dying = []\n",
    "    for index, x in enumerate(nonZero[0]):\n",
    "        # Find dying cells:\n",
    "        y = nonZero[1][index]\n",
    "        # Get all non-zero element.\n",
    "        \n",
    "        # Dying because of of overpopulation (More than 3 neighbour):\n",
    "        if  get_neighbours(x,y,matrix) > 3: \n",
    "            dying.append((x,y))\n",
    "\n",
    "        # Dying because of of under population (Less than two neighbour):\n",
    "        if get_neighbours(x,y,matrix) < 2: \n",
    "            dying.append((x,y))\n",
    "\n",
    "    # Returning the coordinates of dying cells:\n",
    "    return dying\n",
    "\n",
    "def get_neighbours(x,y,matrix):\n",
    "    '''\n",
    "    given the x and y coordnates of a matrix, this function\n",
    "    returns the number of non-zero neighbours of given coordinate\n",
    "    '''\n",
    "    # print matrix[(x-1):(x+2), (y-1):(y+2)]\n",
    "    if matrix[x,y] == 1: \n",
    "        return np.count_nonzero(matrix[(x-1):(x+2), (y-1):(y+2)]) - 1 \n",
    "    else: \n",
    "        return np.count_nonzero(matrix[(x-1):(x+2), (y-1):(y+2)])\n",
    "\n",
    "def get_born(matrix):\n",
    "    '''\n",
    "    this function returns with a list of tuples containing the \n",
    "    coordinates of newly borning cells.\n",
    "    '''\n",
    "\n",
    "    nonZero = np.nonzero(matrix)\n",
    "    born = []\n",
    "    for index, x in enumerate(nonZero[0]):\n",
    "        # Find dying cells:\n",
    "        y = nonZero[1][index]\n",
    "\n",
    "        # Checking zero elements around the non-zero elements:\n",
    "        for dx in [x - 1, x, x + 1]:\n",
    "            for dy in [y - 1, y, y + 1]:\n",
    "                if 0 <= dx < width and 0 <= dy < height:\n",
    "                    if get_neighbours(dx, dy, matrix) == 3:\n",
    "                        born.append((dx,dy))\n",
    "    return born\n",
    "    \n",
    "\n",
    "# initialize random starting structures:\n",
    "def initialize(matrix):\n",
    "    '''\n",
    "    This function takes a matrix as an input and at a \n",
    "    random position creates a 20 element big \"patch of ones\"\n",
    "    \n",
    "    This function is used to create a \"soup\".\n",
    "    '''\n",
    "    \n",
    "    # get dimensions of the matrix:\n",
    "    (w, h) = np.shape(matrix)\n",
    "    \n",
    "    # Get random coordinate:\n",
    "    x = np.random.choice(w)\n",
    "    y = np.random.choice(h)\n",
    "    \n",
    "    # Update matrix:\n",
    "    matrix[x,y] = 1\n",
    "    \n",
    "    for i in range(20):\n",
    "        # Updating x and y:\n",
    "        (dx, dy) = np.random.choice([-1,0,1], 2)\n",
    "        if 0 < x + dx < w and 0 < y + dy < h:\n",
    "            i += 1\n",
    "            x = x + dx\n",
    "            y = y + dy\n",
    "            matrix[x,y] = 1\n",
    "    \n",
    "    # Returning the modified matrix\n",
    "    return matrix\n",
    "\n",
    "def get_new_gen(matrix):\n",
    "    '''\n",
    "    This function calculates the newly born and dying cells\n",
    "    Then removes the dying cells and add the newly forming ones.\n",
    "    '''\n",
    "    \n",
    "    # Before any modification is done, we get the\n",
    "    # list of cells:\n",
    "    dying_cells = get_dying(matrix) \n",
    "    borning_cells = get_born(matrix)\n",
    "\n",
    "    # Updating matrix:\n",
    "    for dying in dying_cells:\n",
    "        # print \"dying: \", dying[0], dying[1]\n",
    "        matrix[dying[0], dying[1]] = 0\n",
    "\n",
    "    for born in borning_cells:\n",
    "        # print \"born: \", born[0], born[1]\n",
    "        matrix[born[0], born[1]] = 1\n",
    "\n",
    "    return matrix\n",
    "\n",
    "def get_pattern_from_net(patternName, matrix):\n",
    "    '''\n",
    "    This function returns the coordinates of a pattern \n",
    "    given the URL pointing to the Life 1.06 version of the \n",
    "    pattern file.\n",
    "    \n",
    "    The pattern is added to the matrix.\n",
    "    '''\n",
    "    URL = 'http://www.conwaylife.com/patterns/%s_106.lif' % patternName\n",
    "    r = requests.get(URL)\n",
    "    x = []\n",
    "    y = []\n",
    "    \n",
    "    if \"DOCTYPE\" in r.content:\n",
    "        print \"[Warning] The requested pattern (%s) was not found in the database.\" % patternName\n",
    "        return matrix\n",
    "    \n",
    "    for line in r.content.split(\"\\r\\n\"):\n",
    "        line.strip()\n",
    "        if \"#\" in line: continue # Skip header row\n",
    "        coord = line.split(\" \")\n",
    "        if len(coord) > 1 :\n",
    "            x.append(int(coord[0]))\n",
    "            y.append(int(coord[1]))\n",
    "\n",
    "    # Adding living cells to the word:\n",
    "    xmin = abs(min(x))\n",
    "    ymin = abs(min(y)) + 31\n",
    "    for i, xi in enumerate(x):\n",
    "        matrix[(xi + xmin), (y[i] + ymin)] = 1\n",
    "\n",
    "    return matrix\n",
    "\n",
    "\n",
    "def get_pattern_from_png(pngFile, matrix):\n",
    "    '''\n",
    "    This function reads the matrix of the pattern\n",
    "    based on a image file submitted as a filename\n",
    "    \n",
    "    The pattern is positioned in the lower left corner of the\n",
    "    matrix.\n",
    "    \n",
    "    Input: png file and the empty matrix\n",
    "    Output: matrix with the pattern\n",
    "    '''\n",
    "    im = imageio.imread(pngFile)\n",
    "    xlist = []\n",
    "    ylist = []\n",
    "    for x in range(im.shape[0]):\n",
    "        for y in range(im.shape[1]):        \n",
    "            try:\n",
    "                if im[x,y][0] != 255 :\n",
    "                    xlist.append(y)\n",
    "                    ylist.append(x)\n",
    "            except: \n",
    "                pass\n",
    "            \n",
    "    # Scaling x and y coordinates to make sure the pattern is \n",
    "    # located at the correct point.\n",
    "    diff = matrix.shape[1] - (max(ylist) - min(ylist)) - 20\n",
    "    for i, xi in enumerate(xlist):\n",
    "        #print i, xi, ylist[i], ylist[i] + diff\n",
    "        matrix[xi,ylist[i] + diff] = 1\n",
    "\n",
    "    return matrix\n",
    "\n",
    "\n",
    "def fill_image(matrix):\n",
    "    '''\n",
    "    This function takes a 2D matrix, and transforms into a 3D matrix, where the 3rd\n",
    "    dimension is the RGB coordinates.\n",
    "    \n",
    "    White will be everywhere where the matrix had 0 and black where it had 1.\n",
    "    '''\n",
    "    \n",
    "    # Initialize 3D array with only white cells:\n",
    "    (w, h) = matrix.shape\n",
    "    data = np.zeros((h,w,3), dtype=np.int16)\n",
    "    data.fill(255)\n",
    "    \n",
    "    # Fill those pixels with black that are 1 in the matrix:\n",
    "    nonzeroes = matrix.nonzero()\n",
    "    for i, x in enumerate(nonzeroes[0]):\n",
    "        data[nonzeroes[1][i],x] = [0,0,0]\n",
    "        \n",
    "    return data"
   ]
  },
  {
   "cell_type": "markdown",
   "metadata": {},
   "source": [
    "### 1. Creating and evolving a soup:\n",
    "\n",
    "1. Initialize a matrix.\n",
    "2. Adding random patterns to the system.\n",
    "3. Let evolve the system for 500 generations.\n",
    "4. Report measured time."
   ]
  },
  {
   "cell_type": "code",
   "execution_count": 4,
   "metadata": {
    "collapsed": false,
    "scrolled": true
   },
   "outputs": [
    {
     "data": {
      "image/png": "[encoded data removed]",
      "text/plain": [
       "<PIL.Image.Image image mode=RGB size=600x300 at 0x10BA140D0>"
      ]
     },
     "execution_count": 4,
     "metadata": {},
     "output_type": "execute_result"
    }
   ],
   "source": [
    "# Initialize matrix with a given size:\n",
    "width = 600\n",
    "height = 300\n",
    "matrix = np.zeros((width, height), dtype=int) # It provides 180000 cells.\n",
    "\n",
    "# Adding 700 random pattern to the system:\n",
    "for i in range(700):\n",
    "    matrix = initialize(matrix)\n",
    "\n",
    "# Let's see the initial system:\n",
    "data = fill_image(matrix)\n",
    "img = scipy.misc.toimage(data)\n",
    "img"
   ]
  },
  {
   "cell_type": "code",
   "execution_count": 101,
   "metadata": {
    "collapsed": false
   },
   "outputs": [
    {
     "name": "stdout",
     "output_type": "stream",
     "text": [
      "Execution time: 0:05:44.804348\n"
     ]
    }
   ],
   "source": [
    "t1 = datetime.datetime.now()\n",
    "frame = 750\n",
    "# Now evolve the system for 500 generations:\n",
    "with imageio.get_writer('movie_2016.05.14_soup_750frame.mp4', mode='I') as writer:\n",
    "    for i in range(frame):\n",
    "        data = fill_image(matrix)\n",
    "        writer.append_data(data)\n",
    "        get_new_gen(matrix)\n",
    "\n",
    "t2 = datetime.datetime.now()\n",
    "print \"Execution time: %s\" % (t2 - t1)"
   ]
  },
  {
   "cell_type": "markdown",
   "metadata": {},
   "source": [
    "### 2. Creating and evolving a pattern dowloaded from the game of life website:\n",
    "\n",
    "1. Initialize a matrix.\n",
    "2. Download pattern from web (http://www.conwaylife.com/wiki/Category:Patterns)\n",
    "3. Add pattern to the matrix.\n",
    "3. Let evolve the system for 750 generations.\n",
    "4. Report measured time."
   ]
  },
  {
   "cell_type": "code",
   "execution_count": 5,
   "metadata": {
    "collapsed": false
   },
   "outputs": [
    {
     "data": {
      "image/png": "[encoded data removed]",
      "text/plain": [
       "<PIL.Image.Image image mode=RGB size=1500x400 at 0x10C58FE90>"
      ]
     },
     "execution_count": 5,
     "metadata": {},
     "output_type": "execute_result"
    }
   ],
   "source": [
    "# Initialize matrix with a given size:\n",
    "width = 1500\n",
    "height = 400\n",
    "matrix = np.zeros((width, height), dtype=int) # It provides 180000 cells.\n",
    "\n",
    "# PAttern name:\n",
    "pattern = \"breeder1\"\n",
    "\n",
    "# pattern to the matrix:\n",
    "matrix = get_pattern_from_net(pattern, matrix)\n",
    "\n",
    "# Let's see the initial system:\n",
    "data = fill_image(matrix)\n",
    "img = scipy.misc.toimage(data)\n",
    "img"
   ]
  },
  {
   "cell_type": "code",
   "execution_count": 116,
   "metadata": {
    "collapsed": false
   },
   "outputs": [
    {
     "name": "stdout",
     "output_type": "stream",
     "text": [
      "Execution time: 0:03:45.219866\n"
     ]
    }
   ],
   "source": [
    "t1 = datetime.datetime.now()\n",
    "frame = 750\n",
    "# Now evolve the system for 750 generations:\n",
    "with imageio.get_writer('movie_2016.05.14_Breeder1_from_net_750frame.mp4', mode='I') as writer:\n",
    "    for i in range(frame):\n",
    "        data = fill_image(matrix)\n",
    "        writer.append_data(data)\n",
    "        get_new_gen(matrix)\n",
    "\n",
    "t2 = datetime.datetime.now()\n",
    "print \"Execution time: %s\" % (t2 - t1)"
   ]
  },
  {
   "cell_type": "markdown",
   "metadata": {},
   "source": [
    "### 3. Creating and evolving a pattern recovered from a bitmap:\n",
    "\n",
    "This function was designed to recover the pattern that was shown in the [wikipedia](https://en.wikipedia.org/wiki/File:Conways_game_of_life_breeder_animation.gif) page of Game of Life. So I have downloaded the animation. Extracted the first frame of the gif file, then this single png file was the template for the reconstruction of the pattern.\n",
    "\n",
    "1. Initialize a matrix.\n",
    "2. Read image file, reconstruct pattern.\n",
    "3. Add pattern to the matrix.\n",
    "3. Let evolve the system for 750 generations.\n",
    "4. Report measured time."
   ]
  },
  {
   "cell_type": "code",
   "execution_count": 6,
   "metadata": {
    "collapsed": false
   },
   "outputs": [
    {
     "data": {
      "image/png": "[encoded data removed]",
      "text/plain": [
       "<PIL.Image.Image image mode=RGB size=600x300 at 0x10C59EC50>"
      ]
     },
     "execution_count": 6,
     "metadata": {},
     "output_type": "execute_result"
    }
   ],
   "source": [
    "# Initialize matrix with a given size:\n",
    "width = 600\n",
    "height = 300\n",
    "matrix = np.zeros((width, height), dtype=int)\n",
    "\n",
    "# Adding the structure to the matrix:\n",
    "matrix = get_pattern_from_png(\"Breeder_wiki.png\", matrix)\n",
    "\n",
    "# Create initial image:\n",
    "data = fill_image(matrix)\n",
    "img = scipy.misc.toimage(data)\n",
    "img"
   ]
  },
  {
   "cell_type": "code",
   "execution_count": 119,
   "metadata": {
    "collapsed": false
   },
   "outputs": [
    {
     "name": "stdout",
     "output_type": "stream",
     "text": [
      "Execution time: 0:01:17.498185\n"
     ]
    }
   ],
   "source": [
    "t1 = datetime.datetime.now()\n",
    "frame = 750\n",
    "# Now evolve the system for 750 generations:\n",
    "with imageio.get_writer('movie_2016.05.14_Breeder_from_image_750frame.mp4', mode='I') as writer:\n",
    "    for i in range(frame):\n",
    "        data = fill_image(matrix)\n",
    "        writer.append_data(data)\n",
    "        get_new_gen(matrix)\n",
    "\n",
    "t2 = datetime.datetime.now()\n",
    "print \"Execution time: %s\" % (t2 - t1)"
   ]
  },
  {
   "cell_type": "code",
   "execution_count": 120,
   "metadata": {
    "collapsed": false
   },
   "outputs": [
    {
     "data": {
      "image/png": "[encoded data removed]",
      "text/plain": [
       "<PIL.Image.Image image mode=RGB size=600x300 at 0x11CB83F90>"
      ]
     },
     "execution_count": 120,
     "metadata": {},
     "output_type": "execute_result"
    }
   ],
   "source": [
    "data = fill_image(matrix)\n",
    "img = scipy.misc.toimage(data)\n",
    "img"
   ]
  }
 ],
 "metadata": {
  "kernelspec": {
   "display_name": "Python 2",
   "language": "python",
   "name": "python2"
  },
  "language_info": {
   "codemirror_mode": {
    "name": "ipython",
    "version": 2
   },
   "file_extension": ".py",
   "mimetype": "text/x-python",
   "name": "python",
   "nbconvert_exporter": "python",
   "pygments_lexer": "ipython2",
   "version": "2.7.11"
  }
 },
 "nbformat": 4,
 "nbformat_minor": 0
}
